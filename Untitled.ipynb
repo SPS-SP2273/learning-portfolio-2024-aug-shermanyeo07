{
 "cells": [
  {
   "cell_type": "code",
   "execution_count": 1,
   "id": "3350b3b5-73eb-4230-b156-d8fa32785852",
   "metadata": {},
   "outputs": [
    {
     "name": "stdout",
     "output_type": "stream",
     "text": [
      "Hello\n"
     ]
    }
   ],
   "source": [
    "print('Hello')"
   ]
  },
  {
   "cell_type": "markdown",
   "id": "b309c111-f492-4d05-af84-edb099e7464f",
   "metadata": {},
   "source": [
    "The ships hung in the sky in much the same way that bricks don’t."
   ]
  },
  {
   "cell_type": "markdown",
   "id": "4d5a9c5c-a789-4084-80d2-843f585c2643",
   "metadata": {},
   "source": [
    "The **ships** hung _in the sky_ in much the ***same*** way <sub>that bricks <sup>don’t."
   ]
  },
  {
   "cell_type": "code",
   "execution_count": 3,
   "id": "9d6fefe0-feb3-440c-9df7-296d6f360e08",
   "metadata": {},
   "outputs": [],
   "source": [
    "#hi"
   ]
  },
  {
   "cell_type": "markdown",
   "id": "8032eaea-2cdb-467d-80f1-10b6e1bc24ee",
   "metadata": {},
   "source": [
    "#hi\n",
    "##hello\n",
    "###hey\n",
    "####hii"
   ]
  },
  {
   "cell_type": "code",
   "execution_count": 4,
   "id": "1e71b988-bf0e-4e75-95a9-a3259bbfd087",
   "metadata": {},
   "outputs": [],
   "source": [
    "#hi"
   ]
  },
  {
   "cell_type": "markdown",
   "id": "6b335734-1bf1-4bb0-a501-4945177ac0de",
   "metadata": {},
   "source": [
    "#hi"
   ]
  },
  {
   "cell_type": "markdown",
   "id": "5da8d33a-889a-40ff-ad4d-2003ce11908f",
   "metadata": {},
   "source": [
    "# HI\n",
    "## HII\n",
    "### HIII\n",
    "#### HIIII"
   ]
  },
  {
   "cell_type": "code",
   "execution_count": 5,
   "id": "7de9cb9c-e3b9-422b-b503-aa3a55a87d14",
   "metadata": {},
   "outputs": [
    {
     "ename": "SyntaxError",
     "evalue": "invalid syntax (281737397.py, line 1)",
     "output_type": "error",
     "traceback": [
      "\u001b[1;36m  Cell \u001b[1;32mIn[5], line 1\u001b[1;36m\u001b[0m\n\u001b[1;33m    ```python\u001b[0m\n\u001b[1;37m    ^\u001b[0m\n\u001b[1;31mSyntaxError\u001b[0m\u001b[1;31m:\u001b[0m invalid syntax\n"
     ]
    }
   ],
   "source": [
    "```python\n",
    "print('Hello World!')\n",
    "```"
   ]
  },
  {
   "cell_type": "code",
   "execution_count": 6,
   "id": "731424ce-9f6b-4475-936a-73216d408a2f",
   "metadata": {},
   "outputs": [
    {
     "ename": "SyntaxError",
     "evalue": "invalid syntax (2563901944.py, line 1)",
     "output_type": "error",
     "traceback": [
      "\u001b[1;36m  Cell \u001b[1;32mIn[6], line 1\u001b[1;36m\u001b[0m\n\u001b[1;33m    ```python\u001b[0m\n\u001b[1;37m    ^\u001b[0m\n\u001b[1;31mSyntaxError\u001b[0m\u001b[1;31m:\u001b[0m invalid syntax\n"
     ]
    }
   ],
   "source": [
    "```python\n",
    "print('Hello World!')"
   ]
  },
  {
   "cell_type": "code",
   "execution_count": 7,
   "id": "c6158737-b68c-4d62-9e7f-c1d91a54255e",
   "metadata": {},
   "outputs": [
    {
     "ename": "SyntaxError",
     "evalue": "invalid syntax (1534893837.py, line 1)",
     "output_type": "error",
     "traceback": [
      "\u001b[1;36m  Cell \u001b[1;32mIn[7], line 1\u001b[1;36m\u001b[0m\n\u001b[1;33m    `print('Hello World')`\u001b[0m\n\u001b[1;37m    ^\u001b[0m\n\u001b[1;31mSyntaxError\u001b[0m\u001b[1;31m:\u001b[0m invalid syntax\n"
     ]
    }
   ],
   "source": [
    "`print('Hello World')`"
   ]
  },
  {
   "cell_type": "markdown",
   "id": "2dd0b3d7-7b51-4a35-88ef-275b072f2361",
   "metadata": {},
   "source": [
    "display code \n",
    "```python\n",
    "print('Hello World!')\n",
    "```"
   ]
  },
  {
   "cell_type": "markdown",
   "id": "d0af8a58-7986-4e62-9b9d-e06d25891b9a",
   "metadata": {},
   "source": [
    "```python\n",
    "print('Hello World!')\n",
    "```"
   ]
  },
  {
   "cell_type": "markdown",
   "id": "0a49b945-94f2-4547-9c33-f7276200da58",
   "metadata": {},
   "source": [
    "[SP2273 Website] (https://sps.nus.edu.sg/sp2273)"
   ]
  },
  {
   "cell_type": "markdown",
   "id": "256e53a1-6873-444b-9aa7-55befbebe991",
   "metadata": {},
   "source": [
    "[SP2273 Website](https://sps.nus.edu.sg/sp2273)"
   ]
  },
  {
   "cell_type": "markdown",
   "id": "01c06de0-e99c-43f9-b12c-43cf4ef3f154",
   "metadata": {},
   "source": [
    "![NUS](https://nus.edu.sg/images/default-source/base/logo.png)"
   ]
  },
  {
   "cell_type": "code",
   "execution_count": null,
   "id": "b2f7bfab-a6d9-40e5-b6c2-94d330f3a5b1",
   "metadata": {},
   "outputs": [],
   "source": []
  }
 ],
 "metadata": {
  "kernelspec": {
   "display_name": "Python 3 (ipykernel)",
   "language": "python",
   "name": "python3"
  },
  "language_info": {
   "codemirror_mode": {
    "name": "ipython",
    "version": 3
   },
   "file_extension": ".py",
   "mimetype": "text/x-python",
   "name": "python",
   "nbconvert_exporter": "python",
   "pygments_lexer": "ipython3",
   "version": "3.12.3"
  }
 },
 "nbformat": 4,
 "nbformat_minor": 5
}
