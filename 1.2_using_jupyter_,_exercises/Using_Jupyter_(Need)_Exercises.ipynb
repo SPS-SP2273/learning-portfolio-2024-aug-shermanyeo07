{
 "cells": [
  {
   "cell_type": "markdown",
   "id": "1d6a893d-d992-42a4-89fa-ec0fe3463100",
   "metadata": {},
   "source": [
    "# Exercise 1 (Put it in Markdown)"
   ]
  },
  {
   "cell_type": "markdown",
   "id": "d7618c2b-89e5-4120-946b-a356f7d1643d",
   "metadata": {},
   "source": [
    "## **1 Quadratic Equations**"
   ]
  },
  {
   "cell_type": "markdown",
   "id": "a7e7a7db-4828-428b-a817-d81bc2548b19",
   "metadata": {},
   "source": [
    "### **Introduction**"
   ]
  },
  {
   "cell_type": "markdown",
   "id": "ca680ba0-0ef1-4536-baf7-246063ff2f5b",
   "metadata": {},
   "source": [
    "![](https://upload.wikimedia.org/wikipedia/commons/thumb/f/f8/Polynomialdeg2.svg/300px-Polynomialdeg2.svg.png)"
   ]
  },
  {
   "cell_type": "markdown",
   "id": "725888f5-081d-4a9f-83b2-0a7e9d1d49ec",
   "metadata": {},
   "source": [
    "(*Image from the [Wikipedia page on Quadratic Equations](https://en.wikipedia.org/wiki/Quadratic_equation)*)"
   ]
  },
  {
   "cell_type": "markdown",
   "id": "415bb8e7-fe35-4ba8-8973-7585c606382e",
   "metadata": {},
   "source": [
    "The general form of a quadratic equation is:"
   ]
  },
  {
   "cell_type": "markdown",
   "id": "54e0aa8c-6df4-40da-ae8f-7cc022b9a0a4",
   "metadata": {},
   "source": [
    "$$\n",
    "ax^2+bx+c=0\n",
    "$$"
   ]
  },
  {
   "cell_type": "markdown",
   "id": "12dc8288-1fe8-4a22-bb6a-3a9b803d8a18",
   "metadata": {},
   "source": [
    "### **Solutions**"
   ]
  },
  {
   "cell_type": "markdown",
   "id": "2803133e-92ef-4efc-8ff0-e87de48664cd",
   "metadata": {},
   "source": [
    "Provided $a \\ne 0$, we can use an elementary algebraic method called [completing the square](https://en.wikipedia.org/wiki/Completing_the_square) to show that a quadratic equation has the following solution:"
   ]
  },
  {
   "cell_type": "markdown",
   "id": "cc515a61-a493-4d9a-bbdf-4d55b85bc537",
   "metadata": {},
   "source": [
    "$$\n",
    "x=\\dfrac {-b \\pm \\sqrt {b^2-4ac}}{2a}\n",
    "$$"
   ]
  },
  {
   "cell_type": "markdown",
   "id": "4945a956-b329-497f-92dc-ec1ad261d87a",
   "metadata": {},
   "source": [
    "### **Discriminant**"
   ]
  },
  {
   "cell_type": "markdown",
   "id": "8a291333-ca77-4b3f-99cd-55b18a83e8de",
   "metadata": {},
   "source": [
    "The quantity $\\Delta = b^2-4ac$ is called the **discriminant** of the equation and decides the nature of its solutions. The table below shows the various possibilities."
   ]
  },
  {
   "cell_type": "markdown",
   "id": "217447a2-5fba-4843-872f-0b725483a892",
   "metadata": {},
   "source": [
    "|**Discriminant**|**Roots**|\n",
    "|:--:|:---|\n",
    "|$\\Delta = b^2-4ac = 0$|A single solution of $-b/(2a)$|\n",
    "|$\\Delta = b^2-4ac \\lt 0$|Two distinct solutions|\n",
    "|$\\Delta = b^2-4ac \\gt 0$|No real solutions; both are complex.|"
   ]
  },
  {
   "cell_type": "markdown",
   "id": "18f83838-87c9-41df-b373-4a0352053546",
   "metadata": {},
   "source": [
    "# Exercise 2 (In Your Own Words)"
   ]
  },
  {
   "cell_type": "markdown",
   "id": "34d38cb1-741a-4158-82b6-956f3eb94ff0",
   "metadata": {},
   "source": [
    "1. A Git **repository** is an online cloud storage where we are able to upload and store files, while reviewers are able to access said files and seamlessly give feedback.\n",
    "2. Git keeps track of **updates** in the files of our repository.\n",
    "3. A **commit** refers to the action of confirming changes to a file and preparing the file to be sent into the main Git repository.\n",
    "4. A **push** refers to the action of sending a file, from the intermediate stage following a commit, to the main Git repository for storage on the cloud and feedback from reviewers.\n",
    "5. A **pull** refers to the action of retrieving updated information or changes to files from the main Git repository to our device.\n",
    "6. The difference between **GitHub** and **GitHub Desktop** is that GitHub refers to the online file library, whereby both the learner and the reviewers have access to the files stored. On the other hand, GitHub Desktop refer's to the learner's device, which can only be accessed by the learner and is used to send or receive updates to and from the main Git repository."
   ]
  },
  {
   "cell_type": "markdown",
   "id": "1f3fc27b-5a40-4c02-9f10-9173a5a2d826",
   "metadata": {},
   "source": [
    "# Exercise 3 (A Matter of Statistics)"
   ]
  },
  {
   "cell_type": "markdown",
   "id": "f0724bd2-701c-4906-afe5-9b29bda7befb",
   "metadata": {},
   "source": [
    "The equation of mean ($\\mu$) is:"
   ]
  },
  {
   "cell_type": "markdown",
   "id": "bc3f75cd-7ecb-456e-8148-8f9c4d38a4c0",
   "metadata": {},
   "source": [
    "$$\n",
    "\\mu = \\dfrac {1}{n} \\sum _{i=1}^{n} x_i\n",
    "$$"
   ]
  },
  {
   "cell_type": "markdown",
   "id": "1b3a5770-0c58-40d5-8fc2-bcce15525792",
   "metadata": {},
   "source": [
    "The equation of standard deviation ($\\sigma$) is:"
   ]
  },
  {
   "cell_type": "markdown",
   "id": "cd13e394-7d15-44f8-8a45-7fa7d22fd1da",
   "metadata": {},
   "source": [
    "$$\n",
    "\\sigma = \\sqrt {\\dfrac {1}{n} \\sum _{i=1}^{n} {(x_i - \\mu)}^2}\n",
    "$$"
   ]
  },
  {
   "cell_type": "markdown",
   "id": "487fa3c1-28c0-4dd4-bfdf-b230cc11fde5",
   "metadata": {},
   "source": [
    "The equation of Pearson correlation coeffecient ($r$) is:"
   ]
  },
  {
   "cell_type": "markdown",
   "id": "08c29224-b128-42fb-9cfd-0c1b4b47ac78",
   "metadata": {},
   "source": [
    "$$\n",
    "r = \\dfrac {\\sum _{i=1}^{n} (x_i - \\mu_X)(y_i - \\mu_Y)}{\\sqrt {{\\sum _{i=1}^{n} (x_i - \\mu_X)^2}{\\sum _{i=1}^{n} (y_i - \\mu_Y)^2}}}\n",
    "$$"
   ]
  }
 ],
 "metadata": {
  "kernelspec": {
   "display_name": "Python 3 (ipykernel)",
   "language": "python",
   "name": "python3"
  },
  "language_info": {
   "codemirror_mode": {
    "name": "ipython",
    "version": 3
   },
   "file_extension": ".py",
   "mimetype": "text/x-python",
   "name": "python",
   "nbconvert_exporter": "python",
   "pygments_lexer": "ipython3",
   "version": "3.12.3"
  }
 },
 "nbformat": 4,
 "nbformat_minor": 5
}
