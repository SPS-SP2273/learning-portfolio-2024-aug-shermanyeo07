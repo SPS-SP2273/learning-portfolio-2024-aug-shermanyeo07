{
 "cells": [
  {
   "cell_type": "markdown",
   "id": "659faa3f-6746-44c5-870f-9a4dd3947a66",
   "metadata": {},
   "source": [
    "# Exercise 1 (Celsius to Fahrenheit or Kelvin)"
   ]
  },
  {
   "cell_type": "code",
   "execution_count": 38,
   "id": "8a14bd96-b5c2-412a-b217-c351e7fb074a",
   "metadata": {},
   "outputs": [],
   "source": [
    "def convert_celsius(temperature_celsius, target_scale='Fahrenheit'):\n",
    "    fahrenheit = temperature_celsius*1.8+32\n",
    "    kelvin = temperature_celsius+273.15\n",
    "    if target_scale == 'Fahrenheit':\n",
    "        return fahrenheit\n",
    "    elif target_scale == 'Kelvin':\n",
    "        return kelvin"
   ]
  },
  {
   "cell_type": "code",
   "execution_count": 14,
   "id": "98064e9a-0be0-4ace-b41f-a0fa92684827",
   "metadata": {},
   "outputs": [
    {
     "data": {
      "text/plain": [
       "122.0"
      ]
     },
     "execution_count": 14,
     "metadata": {},
     "output_type": "execute_result"
    }
   ],
   "source": [
    "convert_celsius(50, 'Fahrenheit')"
   ]
  },
  {
   "cell_type": "code",
   "execution_count": 69,
   "id": "0217f944-7a7a-4e07-a34b-81bee404a1bf",
   "metadata": {},
   "outputs": [
    {
     "data": {
      "text/plain": [
       "283.15"
      ]
     },
     "execution_count": 69,
     "metadata": {},
     "output_type": "execute_result"
    }
   ],
   "source": [
    "convert_celsius(10, 'Kelvin')"
   ]
  },
  {
   "cell_type": "code",
   "execution_count": 22,
   "id": "7cf74f3b-9fa7-4944-984a-95e1bcce78b1",
   "metadata": {},
   "outputs": [
    {
     "data": {
      "text/plain": [
       "68.0"
      ]
     },
     "execution_count": 22,
     "metadata": {},
     "output_type": "execute_result"
    }
   ],
   "source": [
    "convert_celsius(20,)"
   ]
  },
  {
   "cell_type": "markdown",
   "id": "2267d829-8822-43ca-94ba-b3a814285d8a",
   "metadata": {},
   "source": [
    "# Exercise 2 (Fahrenheit to Celsius or Kelvin)"
   ]
  },
  {
   "cell_type": "code",
   "execution_count": 24,
   "id": "f3cb8517-8781-4705-a0ea-aad14403da82",
   "metadata": {},
   "outputs": [],
   "source": [
    "def convert_fahrenheit(temperature_fahrenheit, target_scale='Celsius'):\n",
    "    celsius = (temperature_fahrenheit-32)*(5/9)\n",
    "    kelvin = (temperature_fahrenheit-32)*(5/9)+273.15\n",
    "    if target_scale == 'Celsius':\n",
    "        return celsius\n",
    "    elif target_scale == 'Kelvin':\n",
    "        return kelvin"
   ]
  },
  {
   "cell_type": "code",
   "execution_count": 25,
   "id": "56003b9e-5727-42e7-aa59-d145edbcf005",
   "metadata": {},
   "outputs": [
    {
     "data": {
      "text/plain": [
       "32.22222222222222"
      ]
     },
     "execution_count": 25,
     "metadata": {},
     "output_type": "execute_result"
    }
   ],
   "source": [
    "convert_fahrenheit(90, 'Celsius')"
   ]
  },
  {
   "cell_type": "code",
   "execution_count": 28,
   "id": "958ee8e8-6569-402b-8c82-d73037663ede",
   "metadata": {},
   "outputs": [
    {
     "data": {
      "text/plain": [
       "260.92777777777775"
      ]
     },
     "execution_count": 28,
     "metadata": {},
     "output_type": "execute_result"
    }
   ],
   "source": [
    "convert_fahrenheit(10, 'Kelvin')"
   ]
  },
  {
   "cell_type": "code",
   "execution_count": 30,
   "id": "58f9e89b-20df-4709-a789-3e7d1d03793c",
   "metadata": {},
   "outputs": [
    {
     "data": {
      "text/plain": [
       "-1.1111111111111112"
      ]
     },
     "execution_count": 30,
     "metadata": {},
     "output_type": "execute_result"
    }
   ],
   "source": [
    "convert_fahrenheit(30, )"
   ]
  },
  {
   "cell_type": "markdown",
   "id": "9f09c173-1ee5-4004-8211-8c975b5ead33",
   "metadata": {},
   "source": [
    "# Exercise 3 (General Temperature Conversion)"
   ]
  },
  {
   "cell_type": "code",
   "execution_count": 67,
   "id": "63185cf5-aa45-4d36-8986-7667e916d8e3",
   "metadata": {},
   "outputs": [],
   "source": [
    "def convert_kelvin(temperature_kelvin, target_scale):\n",
    "    celsius = f'{temperature_kelvin-273.15:.2f}'\n",
    "    fahrenheit=f'{(temperature_kelvin-273.15)*1.8+32:.2f}'\n",
    "    if target_scale == 'Celsius':\n",
    "        return celsius\n",
    "    if target_scale == 'Fahrenheit':\n",
    "        return fahrenheit"
   ]
  },
  {
   "cell_type": "code",
   "execution_count": 36,
   "id": "9edf99b0-6502-4330-af81-a97b8eee6f29",
   "metadata": {},
   "outputs": [],
   "source": [
    "def convert_temperature(temperature, source_scale, target_scale):\n",
    "    if source_scale == 'Celsius':\n",
    "        return convert_celsius(temperature, target_scale)\n",
    "    if source_scale == 'Fahrenheit':\n",
    "        return convert_fahrenheit(temperature, target_scale)\n",
    "    if source_scale == 'Kelvin':\n",
    "        return convert_kelvin(temperature, target_scale)"
   ]
  },
  {
   "cell_type": "code",
   "execution_count": 37,
   "id": "e1e1a5dc-667d-46c7-a592-455c35ecb7fa",
   "metadata": {},
   "outputs": [
    {
     "data": {
      "text/plain": [
       "50.0"
      ]
     },
     "execution_count": 37,
     "metadata": {},
     "output_type": "execute_result"
    }
   ],
   "source": [
    "convert_temperature(10, 'Celsius', 'Fahrenheit')"
   ]
  },
  {
   "cell_type": "code",
   "execution_count": 39,
   "id": "fbbfd81e-b9d8-4b74-81b5-d4c8f0f81fc7",
   "metadata": {},
   "outputs": [
    {
     "data": {
      "text/plain": [
       "297.0388888888889"
      ]
     },
     "execution_count": 39,
     "metadata": {},
     "output_type": "execute_result"
    }
   ],
   "source": [
    "convert_temperature(75, 'Fahrenheit', 'Kelvin')"
   ]
  },
  {
   "cell_type": "code",
   "execution_count": 68,
   "id": "54599a1b-7dc5-4b9c-8564-c960d4358464",
   "metadata": {},
   "outputs": [
    {
     "data": {
      "text/plain": [
       "'-233.15'"
      ]
     },
     "execution_count": 68,
     "metadata": {},
     "output_type": "execute_result"
    }
   ],
   "source": [
    "convert_temperature(40, 'Kelvin', 'Celsius')"
   ]
  }
 ],
 "metadata": {
  "kernelspec": {
   "display_name": "Python 3 (ipykernel)",
   "language": "python",
   "name": "python3"
  },
  "language_info": {
   "codemirror_mode": {
    "name": "ipython",
    "version": 3
   },
   "file_extension": ".py",
   "mimetype": "text/x-python",
   "name": "python",
   "nbconvert_exporter": "python",
   "pygments_lexer": "ipython3",
   "version": "3.12.3"
  }
 },
 "nbformat": 4,
 "nbformat_minor": 5
}
