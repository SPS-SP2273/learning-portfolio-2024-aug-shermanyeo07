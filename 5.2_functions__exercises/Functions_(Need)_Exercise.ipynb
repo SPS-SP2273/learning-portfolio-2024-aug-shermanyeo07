{
 "cells": [
  {
   "cell_type": "markdown",
   "id": "861438cf-2c2a-4c04-81fb-9de4cf2c51db",
   "metadata": {},
   "source": [
    "# Exercise 1 (Do you know why?)"
   ]
  },
  {
   "cell_type": "code",
   "execution_count": 6,
   "id": "30607162-bc63-4459-b011-2bd7974380e1",
   "metadata": {},
   "outputs": [
    {
     "data": {
      "text/plain": [
       "'Hello Bruce!'"
      ]
     },
     "execution_count": 6,
     "metadata": {},
     "output_type": "execute_result"
    }
   ],
   "source": [
    "def greeting(name):\n",
    "    if name == 'Batman':\n",
    "        return 'Hello Batman! So, nice to meet you!'\n",
    "    return f'Hello {name}!'\n",
    "\n",
    "greeting ('Bruce')"
   ]
  },
  {
   "cell_type": "markdown",
   "id": "2595425f-ba13-4b97-8798-9ae55e8f1033",
   "metadata": {},
   "source": [
    "Python will first check if the name input is 'Batman'. If the name input is 'Batman', the function \"return 'Hello Batman! So, nice to meet you!'\" will be carried out. If name input is checked to not be 'Batman', the condition in 'if' is not met, hence the code will run the second line with the same indentation and thus, the code will work."
   ]
  },
  {
   "cell_type": "markdown",
   "id": "e4c5a842-fe3d-43fd-9685-ecf07a2d73bd",
   "metadata": {},
   "source": [
    "# Exercise 2 (Chubby or not)"
   ]
  },
  {
   "cell_type": "code",
   "execution_count": 18,
   "id": "76fcf1ae-b20e-468b-8f6d-92bd9144ca04",
   "metadata": {},
   "outputs": [],
   "source": [
    "def calculate_bmi(weight, height):\n",
    "    bmi = weight / (height**2)\n",
    "    if bmi < 18.5:\n",
    "        return 'Underweight'\n",
    "    if 18.5 <= bmi <= 24.9:\n",
    "        return 'Normal weight'\n",
    "    if 25 <= bmi <= 29.9:\n",
    "        return 'Overweight'\n",
    "    if bmi >= 30:\n",
    "        return 'Obese'"
   ]
  },
  {
   "cell_type": "code",
   "execution_count": 23,
   "id": "92f1f949-a4c8-4333-a03d-6757cace0a9c",
   "metadata": {},
   "outputs": [
    {
     "data": {
      "text/plain": [
       "'Normal weight'"
      ]
     },
     "execution_count": 23,
     "metadata": {},
     "output_type": "execute_result"
    }
   ],
   "source": [
    "calculate_bmi(68, 1.84)"
   ]
  },
  {
   "cell_type": "markdown",
   "id": "f7626260-4d05-4745-b08e-9224a4aa0b73",
   "metadata": {},
   "source": [
    "# Exercise 3 (Factorials)"
   ]
  },
  {
   "cell_type": "code",
   "execution_count": 25,
   "id": "a59a53b2-bd68-4026-9b40-f40eb9d3e1c1",
   "metadata": {},
   "outputs": [],
   "source": [
    "def factorial(n):\n",
    "    if n<0:\n",
    "        return 'Invalid input'\n",
    "    elif n==0:\n",
    "        return 1\n",
    "    else:\n",
    "        result = 1\n",
    "        for number in range(1, n+1):\n",
    "            result *= number\n",
    "        return result"
   ]
  },
  {
   "cell_type": "code",
   "execution_count": 28,
   "id": "c0150be5-8975-41f5-935f-251a4768f1b3",
   "metadata": {},
   "outputs": [
    {
     "data": {
      "text/plain": [
       "5040"
      ]
     },
     "execution_count": 28,
     "metadata": {},
     "output_type": "execute_result"
    }
   ],
   "source": [
    "factorial(7)"
   ]
  },
  {
   "cell_type": "code",
   "execution_count": 29,
   "id": "034c31e0-07d3-4ab8-acab-d7c152f19068",
   "metadata": {},
   "outputs": [
    {
     "data": {
      "text/plain": [
       "'Invalid input'"
      ]
     },
     "execution_count": 29,
     "metadata": {},
     "output_type": "execute_result"
    }
   ],
   "source": [
    "factorial(-3)"
   ]
  },
  {
   "cell_type": "code",
   "execution_count": 31,
   "id": "c3892872-71b6-4bd8-93dd-3f3bef38f3b2",
   "metadata": {},
   "outputs": [
    {
     "data": {
      "text/plain": [
       "1"
      ]
     },
     "execution_count": 31,
     "metadata": {},
     "output_type": "execute_result"
    }
   ],
   "source": [
    "factorial(0)"
   ]
  }
 ],
 "metadata": {
  "kernelspec": {
   "display_name": "Python 3 (ipykernel)",
   "language": "python",
   "name": "python3"
  },
  "language_info": {
   "codemirror_mode": {
    "name": "ipython",
    "version": 3
   },
   "file_extension": ".py",
   "mimetype": "text/x-python",
   "name": "python",
   "nbconvert_exporter": "python",
   "pygments_lexer": "ipython3",
   "version": "3.12.3"
  }
 },
 "nbformat": 4,
 "nbformat_minor": 5
}
