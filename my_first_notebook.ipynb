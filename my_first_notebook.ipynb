{
 "cells": [
  {
   "cell_type": "markdown",
   "id": "55ae2cca-20c7-4ead-b38b-1a13979d38c6",
   "metadata": {},
   "source": [
    "print('Hello World')"
   ]
  },
  {
   "cell_type": "code",
   "execution_count": 1,
   "id": "bffbd9f2-4b56-41ee-afca-156ee13a2429",
   "metadata": {},
   "outputs": [
    {
     "name": "stdout",
     "output_type": "stream",
     "text": [
      "Hello World\n"
     ]
    }
   ],
   "source": [
    "print('Hello World')"
   ]
  },
  {
   "cell_type": "markdown",
   "id": "4eead78d-208a-4586-bdfe-e918515660e8",
   "metadata": {},
   "source": [
    "The ships hung in the sky in much the same way that bricks don’t."
   ]
  },
  {
   "cell_type": "code",
   "execution_count": 2,
   "id": "a8dcb0b3-aa9a-43b0-a0cf-92b60714add2",
   "metadata": {},
   "outputs": [
    {
     "ename": "SyntaxError",
     "evalue": "invalid character '’' (U+2019) (2141638483.py, line 1)",
     "output_type": "error",
     "traceback": [
      "\u001b[1;36m  Cell \u001b[1;32mIn[2], line 1\u001b[1;36m\u001b[0m\n\u001b[1;33m    The ships *hung in the sky* in much the same way that **bricks don’t.**<sup>1</sup><sub>QUOTE</sub>\u001b[0m\n\u001b[1;37m                                                                      ^\u001b[0m\n\u001b[1;31mSyntaxError\u001b[0m\u001b[1;31m:\u001b[0m invalid character '’' (U+2019)\n"
     ]
    }
   ],
   "source": [
    "The ships *hung in the sky* in much the same way that **bricks don’t.**<sup>1</sup><sub>QUOTE</sub>"
   ]
  },
  {
   "cell_type": "markdown",
   "id": "410fd446-c4b2-49c7-9a27-2d1657e5b49f",
   "metadata": {},
   "source": [
    "The ships *hung in the sky* in much the same way that **bricks don’t.**<sup>1</sup><sub>QUOTE</sub>"
   ]
  },
  {
   "cell_type": "markdown",
   "id": "902479f8-4d8c-494e-8f17-6690c1b6b2b0",
   "metadata": {},
   "source": [
    "# HII"
   ]
  },
  {
   "cell_type": "markdown",
   "id": "587b6be8-0643-44af-8543-b9eee763163f",
   "metadata": {},
   "source": [
    "[SP2273 Website](https://sps.nus.edu.sg/sp2273)"
   ]
  },
  {
   "cell_type": "markdown",
   "id": "c33e4898-9a8c-4aa4-8669-027b48b82767",
   "metadata": {},
   "source": [
    "![](https://nus.edu.sg/images/default-source/base/logo.png)"
   ]
  },
  {
   "cell_type": "markdown",
   "id": "05c7b450-1487-4a7c-b9b6-8f0ab5841e8e",
   "metadata": {},
   "source": [
    "| A    |  B   |    C |\n",
    "| :--- | :--: | ---: |\n",
    "| a1   |  b1  |   c1 |\n",
    "| a2   |  b2  |   c2 |\n",
    "| a3   |  b3  |   c3 |"
   ]
  },
  {
   "cell_type": "markdown",
   "id": "968b5494-83e9-49d4-a56d-a0ef1a474e93",
   "metadata": {},
   "source": [
    "1. Master Yoda\n",
    "2. Luke Skywalker\n",
    "3. Anakin Skywalker"
   ]
  },
  {
   "cell_type": "markdown",
   "id": "b1c7ed54-bef9-42e0-b5f3-6c98b32882cc",
   "metadata": {},
   "source": [
    "$\\sqrt{b^2-4ac}$"
   ]
  },
  {
   "cell_type": "code",
   "execution_count": 3,
   "id": "d24b747c-e4c8-4fad-bbb4-6b643f7b061f",
   "metadata": {},
   "outputs": [
    {
     "name": "stdout",
     "output_type": "stream",
     "text": [
      "Hello World\n"
     ]
    }
   ],
   "source": [
    "print('Hello World')"
   ]
  },
  {
   "cell_type": "code",
   "execution_count": 4,
   "id": "a7e5996e-6794-4177-8165-ac9e0df317d5",
   "metadata": {},
   "outputs": [
    {
     "name": "stdout",
     "output_type": "stream",
     "text": [
      "C:\\Users\\sherm\\OneDrive\\Documents\\GitHub\\learning-portfolio-2024-aug-shermanyeo07\n"
     ]
    }
   ],
   "source": [
    "!cd"
   ]
  },
  {
   "cell_type": "code",
   "execution_count": 5,
   "id": "fe6d831a-fac0-4f8c-aac7-91a56005591e",
   "metadata": {},
   "outputs": [
    {
     "name": "stdout",
     "output_type": "stream",
     "text": [
      " Volume in drive C is OS\n",
      " Volume Serial Number is D854-EE3D\n",
      "\n",
      " Directory of C:\\Users\\sherm\\OneDrive\\Documents\\GitHub\\learning-portfolio-2024-aug-shermanyeo07\n",
      "\n",
      "15/08/2024  09:12 am    <DIR>          .\n",
      "13/08/2024  08:52 am    <DIR>          ..\n",
      "13/08/2024  08:52 am             3,335 .gitignore\n",
      "15/08/2024  09:12 am    <DIR>          .ipynb_checkpoints\n",
      "13/08/2024  08:52 am    <DIR>          0.1_hello,_github!\n",
      "13/08/2024  08:52 am    <DIR>          0.2_hello,_jupyter!\n",
      "13/08/2024  08:52 am    <DIR>          0.3_Virtual_Environments_(Nice!)\n",
      "13/08/2024  08:52 am    <DIR>          1.1_using_jupyter\n",
      "13/08/2024  08:52 am    <DIR>          1.2_using_jupyter_,_exercises\n",
      "13/08/2024  08:52 am    <DIR>          2.1_fundamentals\n",
      "13/08/2024  08:52 am    <DIR>          2.2_fundamentals__exercises\n",
      "13/08/2024  08:52 am    <DIR>          3.1_storing_data\n",
      "13/08/2024  08:52 am    <DIR>          3.2_storing_data__exercises\n",
      "13/08/2024  08:52 am    <DIR>          4.1_loops\n",
      "13/08/2024  08:52 am    <DIR>          4.2_loops__exercises\n",
      "13/08/2024  08:52 am    <DIR>          5.1_functions\n",
      "13/08/2024  08:52 am    <DIR>          5.2_functions__exercises\n",
      "13/08/2024  08:52 am    <DIR>          6.1_files,_folders_&_os\n",
      "13/08/2024  08:52 am    <DIR>          6.2_files,_folders_&_os__exercises\n",
      "13/08/2024  08:52 am    <DIR>          7.1_plotting\n",
      "13/08/2024  08:52 am    <DIR>          7.2_plotting__exercises\n",
      "13/08/2024  08:52 am             1,088 LICENSE\n",
      "15/08/2024  09:11 am             3,621 my_first_notebook.ipynb\n",
      "13/08/2024  08:52 am               203 README.md\n",
      "13/08/2024  09:08 am    <DIR>          testing\n",
      "15/08/2024  08:53 am             4,880 Untitled.ipynb\n",
      "               5 File(s)         13,127 bytes\n",
      "              21 Dir(s)  416,336,506,880 bytes free\n"
     ]
    }
   ],
   "source": [
    "!dir"
   ]
  },
  {
   "cell_type": "code",
   "execution_count": null,
   "id": "a4da1768-cb8e-4164-b656-a2f4040b1910",
   "metadata": {},
   "outputs": [],
   "source": []
  }
 ],
 "metadata": {
  "kernelspec": {
   "display_name": "Python 3 (ipykernel)",
   "language": "python",
   "name": "python3"
  },
  "language_info": {
   "codemirror_mode": {
    "name": "ipython",
    "version": 3
   },
   "file_extension": ".py",
   "mimetype": "text/x-python",
   "name": "python",
   "nbconvert_exporter": "python",
   "pygments_lexer": "ipython3",
   "version": "3.12.3"
  }
 },
 "nbformat": 4,
 "nbformat_minor": 5
}
