{
 "cells": [
  {
   "cell_type": "markdown",
   "id": "79c05a25-2f22-463c-9da5-2c69672bdeb6",
   "metadata": {},
   "source": [
    "# Exercise 1 (Total recall?)"
   ]
  },
  {
   "cell_type": "markdown",
   "id": "1c53b897-0a5e-410b-bdd8-5fb1071a63cc",
   "metadata": {},
   "source": [
    "- functions (print() and if())\n",
    "- brackets\n",
    "- comments\n",
    "- packages\n",
    "- arguments\n",
    "- *= is not the same as ==*\n",
    "- *indentations*\n",
    "- *'age' is English, age is a variable*\n",
    "- *the dot (.)*"
   ]
  },
  {
   "cell_type": "markdown",
   "id": "e4717ce0-904c-49f5-a3fe-84686556ed56",
   "metadata": {},
   "source": [
    "# Exercise 2 (Debug me)"
   ]
  },
  {
   "cell_type": "code",
   "execution_count": 5,
   "id": "04c78a10-d752-47aa-8d32-a7e58a8b93c7",
   "metadata": {},
   "outputs": [],
   "source": [
    "import math"
   ]
  },
  {
   "cell_type": "code",
   "execution_count": 8,
   "id": "fc0e0f6f-caa0-4d46-ad83-892de670f045",
   "metadata": {},
   "outputs": [
    {
     "name": "stdout",
     "output_type": "stream",
     "text": [
      "3 4 5.0\n"
     ]
    }
   ],
   "source": [
    "x = 3\n",
    "y = 4\n",
    "z = math.sqrt(x**2 + y**2)\n",
    "print(x, y, z)"
   ]
  },
  {
   "cell_type": "markdown",
   "id": "3467cf04-ad89-4a83-bff6-c71b72d643d0",
   "metadata": {},
   "source": [
    "# Exercise 3 (In your own words)"
   ]
  },
  {
   "cell_type": "markdown",
   "id": "ea7493d3-ae6a-451d-a072-96317b7205ae",
   "metadata": {},
   "source": [
    "'#' | Term | Description\n",
    ":--: | :--- | :---\n",
    "1 | Function | Feature of Python to perform specific tasks\n",
    "2 | Arguments | Feature to define the output of a function\n",
    "3 | Comments | Notes made on the side to make sense of steps taken when performing tasks\n",
    "4 | Indentations | Separates blocks of code and defines the hierarchy of the blocks\n",
    "5 | Packages | Additional functions to Python to allow for greater functionality\n",
    "6 | . | Used to indicate ownership to the particular package\n",
    "7 | : | Used to elaborate on certain functions\n",
    "8 | [ ] | Used to list data, creating a 1D list\n",
    "9 | [ [ ],[ ] ] | Used to create a 2D list\n",
    "10 | { } | Used to store data in a dictionary to register values under specific abbreviations"
   ]
  },
  {
   "cell_type": "markdown",
   "id": "ff6399a8-83dc-46bf-a17a-b2e6105da23a",
   "metadata": {},
   "source": [
    "# Exercise 4 (More than one way to divide)"
   ]
  },
  {
   "cell_type": "code",
   "execution_count": 2,
   "id": "a85a3a01-ac3a-444c-9527-fcb953055f83",
   "metadata": {},
   "outputs": [
    {
     "data": {
      "text/plain": [
       "2.5"
      ]
     },
     "execution_count": 2,
     "metadata": {},
     "output_type": "execute_result"
    }
   ],
   "source": [
    "5/2 #Divides 5 by 2"
   ]
  },
  {
   "cell_type": "code",
   "execution_count": 1,
   "id": "dc6a67ca-f7f0-4731-a33d-2735e10d368d",
   "metadata": {},
   "outputs": [
    {
     "data": {
      "text/plain": [
       "2"
      ]
     },
     "execution_count": 1,
     "metadata": {},
     "output_type": "execute_result"
    }
   ],
   "source": [
    "5//2 #Divides 5 by 2 and rounds down to the nearest integer"
   ]
  },
  {
   "cell_type": "code",
   "execution_count": 3,
   "id": "4f2e3afe-36f3-459c-aeb6-fd24c782e9de",
   "metadata": {},
   "outputs": [
    {
     "data": {
      "text/plain": [
       "1"
      ]
     },
     "execution_count": 3,
     "metadata": {},
     "output_type": "execute_result"
    }
   ],
   "source": [
    "5%2 #Divides 5 by 2 and returns the remainder of the division"
   ]
  }
 ],
 "metadata": {
  "kernelspec": {
   "display_name": "Python 3 (ipykernel)",
   "language": "python",
   "name": "python3"
  },
  "language_info": {
   "codemirror_mode": {
    "name": "ipython",
    "version": 3
   },
   "file_extension": ".py",
   "mimetype": "text/x-python",
   "name": "python",
   "nbconvert_exporter": "python",
   "pygments_lexer": "ipython3",
   "version": "3.12.3"
  }
 },
 "nbformat": 4,
 "nbformat_minor": 5
}
