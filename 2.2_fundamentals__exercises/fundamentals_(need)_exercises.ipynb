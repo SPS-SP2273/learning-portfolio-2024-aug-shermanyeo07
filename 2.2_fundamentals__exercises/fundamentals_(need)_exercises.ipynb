{
 "cells": [
  {
   "cell_type": "markdown",
   "id": "79c05a25-2f22-463c-9da5-2c69672bdeb6",
   "metadata": {},
   "source": [
    "# Exercise 1 (Total recall?)"
   ]
  },
  {
   "cell_type": "markdown",
   "id": "1c53b897-0a5e-410b-bdd8-5fb1071a63cc",
   "metadata": {},
   "source": [
    "- functions (print() and if())\n",
    "- brackets\n",
    "- comments\n",
    "- packages\n",
    "- arguments\n",
    "- *= is not the same as ==*\n",
    "- *indentations*\n",
    "- *'age' is English, age is a variable*\n",
    "- *the dot (.)*"
   ]
  },
  {
   "cell_type": "markdown",
   "id": "e4717ce0-904c-49f5-a3fe-84686556ed56",
   "metadata": {},
   "source": [
    "# Exercise 2 (Debug me)"
   ]
  },
  {
   "cell_type": "code",
   "execution_count": 5,
   "id": "04c78a10-d752-47aa-8d32-a7e58a8b93c7",
   "metadata": {},
   "outputs": [],
   "source": [
    "import math"
   ]
  },
  {
   "cell_type": "code",
   "execution_count": 8,
   "id": "fc0e0f6f-caa0-4d46-ad83-892de670f045",
   "metadata": {},
   "outputs": [
    {
     "name": "stdout",
     "output_type": "stream",
     "text": [
      "3 4 5.0\n"
     ]
    }
   ],
   "source": [
    "x = 3\n",
    "y = 4\n",
    "z = math.sqrt(x**2 + y**2)\n",
    "print(x, y, z)"
   ]
  },
  {
   "cell_type": "markdown",
   "id": "3467cf04-ad89-4a83-bff6-c71b72d643d0",
   "metadata": {},
   "source": [
    "# Exercise 3 (In your own words)"
   ]
  },
  {
   "cell_type": "markdown",
   "id": "ea7493d3-ae6a-451d-a072-96317b7205ae",
   "metadata": {},
   "source": [
    "'#' | Term | Description\n",
    ":--: | :--- | :---\n",
    "1 | Function | Feature of Python to perform specific tasks\n",
    "2 | Arguments | Condition for Python to perform their task on\n",
    "3 | Comments | Notes made on the side to make sense of steps taken when performing tasks\n",
    "4 | Indentations | Spaces within the code for Python to process information and perform tasks\n",
    "5 | Packages | Additional modifications to Python to allow for greater functionality\n",
    "6 | . | Used to indicate ownership to the particular package\n",
    "7 | : | Used to elaborate on certain functions\n",
    "8 | [ ] | Used to list data, creating a 1D list\n",
    "9 | [ [ ],[ ] ] | Used to create a 2D list\n",
    "10 | { } | Used to store data in a dictionary to register values under specific abbreviations"
   ]
  }
 ],
 "metadata": {
  "kernelspec": {
   "display_name": "Python 3 (ipykernel)",
   "language": "python",
   "name": "python3"
  },
  "language_info": {
   "codemirror_mode": {
    "name": "ipython",
    "version": 3
   },
   "file_extension": ".py",
   "mimetype": "text/x-python",
   "name": "python",
   "nbconvert_exporter": "python",
   "pygments_lexer": "ipython3",
   "version": "3.12.3"
  }
 },
 "nbformat": 4,
 "nbformat_minor": 5
}
