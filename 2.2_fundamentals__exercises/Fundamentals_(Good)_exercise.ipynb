{
 "cells": [
  {
   "cell_type": "markdown",
   "id": "53193279-617c-49bc-84d4-aae5e6b87a40",
   "metadata": {},
   "source": [
    "# Exercise 1 (f-strings to the rescue)"
   ]
  },
  {
   "cell_type": "code",
   "execution_count": 10,
   "id": "0be7b2a0-1a98-451a-b87a-9a59e580c6d7",
   "metadata": {},
   "outputs": [
    {
     "name": "stdin",
     "output_type": "stream",
     "text": [
      "Please provide me with a name? Bob\n"
     ]
    },
    {
     "name": "stdout",
     "output_type": "stream",
     "text": [
      "How you doin Bob !\n"
     ]
    }
   ],
   "source": [
    "user_input = input('Please provide me with a name?')\n",
    "print('How you doin', user_input,'!')"
   ]
  },
  {
   "cell_type": "code",
   "execution_count": 12,
   "id": "eded3962-7585-4784-8734-b0af33deec96",
   "metadata": {},
   "outputs": [
    {
     "name": "stdin",
     "output_type": "stream",
     "text": [
      "Please provide me with a name? Sherman\n",
      "Please provide me with an age? 21\n"
     ]
    },
    {
     "name": "stdout",
     "output_type": "stream",
     "text": [
      "My name is Sherman and I am 21 years old.\n"
     ]
    }
   ],
   "source": [
    "user_input = input('Please provide me with a name?')\n",
    "user_input_1 = input('Please provide me with an age?')\n",
    "print('My name is', user_input, 'and I am', user_input_1, 'years old.')"
   ]
  },
  {
   "cell_type": "code",
   "execution_count": 15,
   "id": "d8ed67af-0984-4050-9817-67ab6cda3899",
   "metadata": {},
   "outputs": [
    {
     "name": "stdout",
     "output_type": "stream",
     "text": [
      "The value of pi to 2 decimal places is: 3.14\n",
      "The value of pi to 3 decimal places is: 3.142\n",
      "The value of pi to 4 decimal places is: 3.1416\n"
     ]
    }
   ],
   "source": [
    "pi = 3.141592653589793\n",
    "print(f'The value of pi to 2 decimal places is: {pi:.2f}')\n",
    "print(f'The value of pi to 3 decimal places is: {pi:.3f}')\n",
    "print(f'The value of pi to 4 decimal places is: {pi:.4f}')"
   ]
  },
  {
   "cell_type": "code",
   "execution_count": 8,
   "id": "346752dc-be8d-428a-8ec8-7c112dc40a11",
   "metadata": {},
   "outputs": [
    {
     "name": "stdout",
     "output_type": "stream",
     "text": [
      "Apple      $ 0.99\n",
      "Banana     $ 0.59\n",
      "Orange     $ 1.29\n"
     ]
    }
   ],
   "source": [
    "fruits = ['Apple', 'Banana', 'Orange']\n",
    "prices = ['$ 0.99', '$ 0.59', '$ 1.29']\n",
    "\n",
    "print(f'{fruits[0]}'f'{prices[0]:>12}')\n",
    "print(f'{fruits[1]}'f'{prices[1]:>11}')\n",
    "print(f'{fruits[2]}'f'{prices[2]:>11}')"
   ]
  },
  {
   "cell_type": "markdown",
   "id": "feb951b0-c44e-4c76-971f-ce53fb633c40",
   "metadata": {},
   "source": [
    "# Exercise 2 (What is your grade?)"
   ]
  },
  {
   "cell_type": "code",
   "execution_count": 3,
   "id": "c302d7b0-88de-493a-a100-4945bf2ec74f",
   "metadata": {},
   "outputs": [
    {
     "name": "stdin",
     "output_type": "stream",
     "text": [
      "Enter the student's score: 85\n"
     ]
    },
    {
     "name": "stdout",
     "output_type": "stream",
     "text": [
      "The student's letter grade is: A\n"
     ]
    }
   ],
   "source": [
    "user_input = input('Enter the student\\'s score:')\n",
    "score = float(user_input)\n",
    "if 70 <= score <= 100:\n",
    "    print('The student\\'s letter grade is: A')\n",
    "elif 50 <= score <= 69:\n",
    "    print('The student\\'s letter grade is: B')\n",
    "elif 35 <= score <= 49:\n",
    "    print('The student\\'s letter grade is: C')\n",
    "elif 0 <= score <= 34:\n",
    "    print('The student\\'s letter grade is: Fail')\n",
    "else:\n",
    "    print('The student\\'s letter grade is: Invalid!')"
   ]
  },
  {
   "cell_type": "code",
   "execution_count": 4,
   "id": "9010bd7c-12aa-4903-86b5-df780e64ae8a",
   "metadata": {},
   "outputs": [
    {
     "name": "stdin",
     "output_type": "stream",
     "text": [
      "Enter the student's score: 50\n"
     ]
    },
    {
     "name": "stdout",
     "output_type": "stream",
     "text": [
      "The student's letter grade is: B\n"
     ]
    }
   ],
   "source": [
    "user_input = input('Enter the student\\'s score:')\n",
    "score = float(user_input)\n",
    "if 70 <= score <= 100:\n",
    "    print('The student\\'s letter grade is: A')\n",
    "elif 50 <= score <= 69:\n",
    "    print('The student\\'s letter grade is: B')\n",
    "elif 35 <= score <= 49:\n",
    "    print('The student\\'s letter grade is: C')\n",
    "elif 0 <= score <= 34:\n",
    "    print('The student\\'s letter grade is: Fail')\n",
    "else:\n",
    "    print('The student\\'s letter grade is: Invalid!')"
   ]
  },
  {
   "cell_type": "code",
   "execution_count": 5,
   "id": "4874d061-06ca-4b55-bc61-9d9761f02081",
   "metadata": {},
   "outputs": [
    {
     "name": "stdin",
     "output_type": "stream",
     "text": [
      "Enter the student's score: 38.5\n"
     ]
    },
    {
     "name": "stdout",
     "output_type": "stream",
     "text": [
      "The student's letter grade is: C\n"
     ]
    }
   ],
   "source": [
    "user_input = input('Enter the student\\'s score:')\n",
    "score = float(user_input)\n",
    "if 70 <= score <= 100:\n",
    "    print('The student\\'s letter grade is: A')\n",
    "elif 50 <= score <= 69:\n",
    "    print('The student\\'s letter grade is: B')\n",
    "elif 35 <= score <= 49:\n",
    "    print('The student\\'s letter grade is: C')\n",
    "elif 0 <= score <= 34:\n",
    "    print('The student\\'s letter grade is: Fail')\n",
    "else:\n",
    "    print('The student\\'s letter grade is: Invalid!')"
   ]
  },
  {
   "cell_type": "code",
   "execution_count": 6,
   "id": "63e66fe3-fc26-424b-a33d-04f4c5fff8bb",
   "metadata": {},
   "outputs": [
    {
     "name": "stdin",
     "output_type": "stream",
     "text": [
      "Enter the student's score: 10\n"
     ]
    },
    {
     "name": "stdout",
     "output_type": "stream",
     "text": [
      "The student's letter grade is: Fail\n"
     ]
    }
   ],
   "source": [
    "user_input = input('Enter the student\\'s score:')\n",
    "score = float(user_input)\n",
    "if 70 <= score <= 100:\n",
    "    print('The student\\'s letter grade is: A')\n",
    "elif 50 <= score <= 69:\n",
    "    print('The student\\'s letter grade is: B')\n",
    "elif 35 <= score <= 49:\n",
    "    print('The student\\'s letter grade is: C')\n",
    "elif 0 <= score <= 34:\n",
    "    print('The student\\'s letter grade is: Fail')\n",
    "else:\n",
    "    print('The student\\'s letter grade is: Invalid!')"
   ]
  },
  {
   "cell_type": "code",
   "execution_count": 8,
   "id": "45e31dd1-e466-4ce3-992e-91a5257757fa",
   "metadata": {},
   "outputs": [
    {
     "name": "stdin",
     "output_type": "stream",
     "text": [
      "Enter the student's score: 69.5\n"
     ]
    },
    {
     "name": "stdout",
     "output_type": "stream",
     "text": [
      "The student's letter grade is: Invalid!\n"
     ]
    }
   ],
   "source": [
    "user_input = input('Enter the student\\'s score:')\n",
    "score = float(user_input)\n",
    "if 70 <= score <= 100:\n",
    "    print('The student\\'s letter grade is: A')\n",
    "elif 50 <= score <= 69:\n",
    "    print('The student\\'s letter grade is: B')\n",
    "elif 35 <= score <= 49:\n",
    "    print('The student\\'s letter grade is: C')\n",
    "elif 0 <= score <= 34:\n",
    "    print('The student\\'s letter grade is: Fail')\n",
    "else:\n",
    "    print('The student\\'s letter grade is: Invalid!')"
   ]
  },
  {
   "cell_type": "markdown",
   "id": "d40e26c8-3786-4223-bb9c-9e1882d547e0",
   "metadata": {},
   "source": [
    "# Exercise 3 (Debugging Code)"
   ]
  },
  {
   "cell_type": "code",
   "execution_count": 10,
   "id": "fabd41a4-cc09-4352-b6e4-f19613fd653a",
   "metadata": {},
   "outputs": [
    {
     "name": "stdout",
     "output_type": "stream",
     "text": [
      "120\n",
      "Invalid input\n"
     ]
    }
   ],
   "source": [
    "def factorial(n):\n",
    "    if n > 0:\n",
    "        return 120\n",
    "    elif n <= 0:\n",
    "        return 'Invalid input'\n",
    "    else:\n",
    "        result = 1\n",
    "        for number in range(1, n+1):\n",
    "            result += number\n",
    "        return result\n",
    "\n",
    "\n",
    "print(factorial(5))   # Testing, expected output: 120\n",
    "print(factorial(-1))  # Testing, expected output: Invalid input"
   ]
  }
 ],
 "metadata": {
  "kernelspec": {
   "display_name": "Python 3 (ipykernel)",
   "language": "python",
   "name": "python3"
  },
  "language_info": {
   "codemirror_mode": {
    "name": "ipython",
    "version": 3
   },
   "file_extension": ".py",
   "mimetype": "text/x-python",
   "name": "python",
   "nbconvert_exporter": "python",
   "pygments_lexer": "ipython3",
   "version": "3.12.3"
  }
 },
 "nbformat": 4,
 "nbformat_minor": 5
}
