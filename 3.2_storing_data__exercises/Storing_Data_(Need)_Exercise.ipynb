{
 "cells": [
  {
   "cell_type": "markdown",
   "id": "ef59134f-c264-47d0-ad51-25173101a6a5",
   "metadata": {},
   "source": [
    "# Exercise 1 (Total recall?)"
   ]
  },
  {
   "cell_type": "markdown",
   "id": "2d8208b9-c329-4ae3-9064-8d74493b93da",
   "metadata": {},
   "source": [
    "1. Two similarties are:\n",
    "- Lists and arrays both return a string of output.\n",
    "- We can extract data from lists and arrays in the same way.\n",
    "2. Two differences are:\n",
    "- We can change the values in arrays through addition but not in lists.\n",
    "- Multiplying across arrays gives a new list of data, while multiplying across lists gives repeated strings of the original data.\n",
    "3. A dictionary is a storage of data, associating values to a particular key."
   ]
  },
  {
   "cell_type": "markdown",
   "id": "0a938df3-bcf6-42b7-bd6c-8651130edda7",
   "metadata": {},
   "source": [
    "# Exercise 2 (Indexing)"
   ]
  },
  {
   "cell_type": "code",
   "execution_count": 2,
   "id": "ae99623b-040c-4fdf-be51-73499268f8aa",
   "metadata": {},
   "outputs": [
    {
     "name": "stdout",
     "output_type": "stream",
     "text": [
      "a1\n",
      "c3\n",
      "e5\n",
      "g7\n",
      "i9\n"
     ]
    }
   ],
   "source": [
    "py_list = [\"a1\", \"b2\", \"c3\", \"d4\", \"e5\", \"f6\", \"g7\", \"h8\", \"i9\", \"j10\"]\n",
    "print(py_list[0])   # Prints 'a1'\n",
    "print(py_list[2])   # Prints 'c3'\n",
    "print(py_list[4])   # Prints 'e5'\n",
    "print(py_list[6])   # Prints 'g7'\n",
    "print(py_list[8])   # Prints 'i9'"
   ]
  },
  {
   "cell_type": "markdown",
   "id": "1acdd737-bed1-484b-8800-5f9b250536e8",
   "metadata": {},
   "source": [
    "# Exercise 3 (Index again)"
   ]
  },
  {
   "cell_type": "code",
   "execution_count": 4,
   "id": "75ceea33-8b95-47f7-95e4-c502bbd936d2",
   "metadata": {},
   "outputs": [
    {
     "name": "stdout",
     "output_type": "stream",
     "text": [
      "Boron\n",
      "Nitrogen\n"
     ]
    }
   ],
   "source": [
    "elements = ['Hydrogen',\n",
    "            'Helium', 'Lithium',\n",
    "            'Beryllium', 'Boron', 'Carbon',\n",
    "            'Nitrogen', 'Oxygen',\n",
    "            'Fluorine',\n",
    "            'Neon']\n",
    "print(elements[4])\n",
    "print(elements[-4])"
   ]
  },
  {
   "cell_type": "markdown",
   "id": "ce85af9d-7bb4-42b5-a63a-ef42c0c26395",
   "metadata": {},
   "source": [
    "# Exercise 4 (How many ones)"
   ]
  },
  {
   "cell_type": "code",
   "execution_count": 6,
   "id": "cafaaffa-6043-4f58-a92a-a35fbd9840c7",
   "metadata": {},
   "outputs": [],
   "source": [
    "import numpy as np"
   ]
  },
  {
   "cell_type": "code",
   "execution_count": 37,
   "id": "281e2dcf-7084-4b0a-8b52-39d21bd03265",
   "metadata": {},
   "outputs": [],
   "source": [
    "numbers=[45, 60, 1, 30, 96, 1, 96, 57, 16, 1,\n",
    "        99, 62, 86, 43, 42, 60, 59, 1, 1, 35,\n",
    "        83, 47, 34, 28, 68, 23, 22, 92, 1, 79,\n",
    "        1, 29, 94, 72, 46, 47, 1, 74, 32, 20,\n",
    "        8, 37, 35, 1, 89, 29, 86, 19, 43, 61]"
   ]
  },
  {
   "cell_type": "code",
   "execution_count": 38,
   "id": "a0f208cf-b856-4896-b7fc-f2bb88d7f66a",
   "metadata": {},
   "outputs": [],
   "source": [
    "np_array = np.array(numbers)"
   ]
  },
  {
   "cell_type": "code",
   "execution_count": 39,
   "id": "05e1eab2-d3ea-426e-998c-2ae4ec5105eb",
   "metadata": {},
   "outputs": [
    {
     "data": {
      "text/plain": [
       "array([False, False,  True, False, False,  True, False, False, False,\n",
       "        True, False, False, False, False, False, False, False,  True,\n",
       "        True, False, False, False, False, False, False, False, False,\n",
       "       False,  True, False,  True, False, False, False, False, False,\n",
       "        True, False, False, False, False, False, False,  True, False,\n",
       "       False, False, False, False, False])"
      ]
     },
     "execution_count": 39,
     "metadata": {},
     "output_type": "execute_result"
    }
   ],
   "source": [
    "np_array == 1"
   ]
  },
  {
   "cell_type": "code",
   "execution_count": 40,
   "id": "adc5ea94-f1f0-4cc2-86e9-9a0d357d7b2f",
   "metadata": {},
   "outputs": [
    {
     "data": {
      "text/plain": [
       "np.int64(9)"
      ]
     },
     "execution_count": 40,
     "metadata": {},
     "output_type": "execute_result"
    }
   ],
   "source": [
    "sum (np_array == 1)"
   ]
  },
  {
   "cell_type": "markdown",
   "id": "b1b560fa-8f8a-4eb7-8bbf-e5bbc960a5e1",
   "metadata": {},
   "source": [
    "# Exercise 5 (A Matter of Statistics)"
   ]
  },
  {
   "cell_type": "code",
   "execution_count": 6,
   "id": "ea9c51e0-9ce2-4c99-a9f8-a5e10214c282",
   "metadata": {},
   "outputs": [],
   "source": [
    "import numpy as np"
   ]
  },
  {
   "cell_type": "code",
   "execution_count": 4,
   "id": "1e7b0e9f-91d3-441e-be5b-17ad40002530",
   "metadata": {},
   "outputs": [],
   "source": [
    "x_1 = [1, 4, 9, 16, 25, 36, 49, 64, 81, 100]\n",
    "x_2 = [1, 8, 27, 64, 125, 216, 343, 512, 729, 1000]"
   ]
  },
  {
   "cell_type": "markdown",
   "id": "f976d618-74dc-4b65-9cee-7e71283239a8",
   "metadata": {},
   "source": [
    "**means of $x_1$ and $x_2$**"
   ]
  },
  {
   "cell_type": "code",
   "execution_count": 8,
   "id": "edcfb863-edb0-4153-907b-438922f334e1",
   "metadata": {},
   "outputs": [
    {
     "data": {
      "text/plain": [
       "np.float64(38.5)"
      ]
     },
     "execution_count": 8,
     "metadata": {},
     "output_type": "execute_result"
    }
   ],
   "source": [
    "np.mean(x_1)"
   ]
  },
  {
   "cell_type": "code",
   "execution_count": 9,
   "id": "617d40c7-a5b9-4e4e-b2b0-a701f2c3de25",
   "metadata": {},
   "outputs": [
    {
     "data": {
      "text/plain": [
       "np.float64(302.5)"
      ]
     },
     "execution_count": 9,
     "metadata": {},
     "output_type": "execute_result"
    }
   ],
   "source": [
    "np.mean(x_2)"
   ]
  },
  {
   "cell_type": "markdown",
   "id": "47812d54-8e5a-42ac-b72f-0c7205b61ea6",
   "metadata": {},
   "source": [
    "**standard deviations of $x_1$ and $x_2$**"
   ]
  },
  {
   "cell_type": "code",
   "execution_count": 10,
   "id": "f1ff9968-d080-49e7-8b8a-c38fd2e305ad",
   "metadata": {},
   "outputs": [
    {
     "data": {
      "text/plain": [
       "np.float64(32.41990129534635)"
      ]
     },
     "execution_count": 10,
     "metadata": {},
     "output_type": "execute_result"
    }
   ],
   "source": [
    "np.std(x_1)"
   ]
  },
  {
   "cell_type": "code",
   "execution_count": 11,
   "id": "711b89f6-5870-400c-ac3d-9371b3e5e6e4",
   "metadata": {},
   "outputs": [
    {
     "data": {
      "text/plain": [
       "np.float64(326.0893282522444)"
      ]
     },
     "execution_count": 11,
     "metadata": {},
     "output_type": "execute_result"
    }
   ],
   "source": [
    "np.std(x_2)"
   ]
  },
  {
   "cell_type": "markdown",
   "id": "809971f6-ab63-41fa-86fa-967bb40a7f35",
   "metadata": {},
   "source": [
    "**Pearson correlation coefficient, $r$**"
   ]
  },
  {
   "cell_type": "code",
   "execution_count": 41,
   "id": "f1e9e10d-6599-4887-82f1-583c1bad25df",
   "metadata": {},
   "outputs": [],
   "source": [
    "import numpy as np"
   ]
  },
  {
   "cell_type": "code",
   "execution_count": 59,
   "id": "047f0770-006e-4ce6-a63e-494263cdfd37",
   "metadata": {},
   "outputs": [
    {
     "data": {
      "text/plain": [
       "np.float64(0.9871796626270701)"
      ]
     },
     "execution_count": 59,
     "metadata": {},
     "output_type": "execute_result"
    }
   ],
   "source": [
    "a, b = np.array(x_1),np.array(x_2)\n",
    "c = np.sum(a)\n",
    "d = np.sum(b)\n",
    "e = np.sum(a**2)\n",
    "f = np.sum(b**2)\n",
    "g = np.sum(a*b)\n",
    "numerator = 10*g - c*d\n",
    "denominator = np.sqrt((10*e - c**2)*(10*f - d**2))\n",
    "\n",
    "numerator/denominator"
   ]
  },
  {
   "cell_type": "markdown",
   "id": "d54ad17d-cdd0-4c60-9e10-54be1f93e894",
   "metadata": {},
   "source": [
    "**Comparing results to np.corrcoef()**"
   ]
  },
  {
   "cell_type": "code",
   "execution_count": 58,
   "id": "08b7028e-65b8-4a63-8775-a77042820522",
   "metadata": {},
   "outputs": [
    {
     "data": {
      "text/plain": [
       "array([[1.        , 0.98717966],\n",
       "       [0.98717966, 1.        ]])"
      ]
     },
     "execution_count": 58,
     "metadata": {},
     "output_type": "execute_result"
    }
   ],
   "source": [
    "np.corrcoef(a,b) #result of corrcoeff [corrcoef btw a and a, corrcoef btw a and b]\n",
    "                 #                    [corrcoef btw a and b, corrcoef btw b and b]"
   ]
  },
  {
   "cell_type": "markdown",
   "id": "9d9ff29d-dc8e-4178-9749-514a4934e0d0",
   "metadata": {},
   "source": [
    "The first method gave the r value between both datasets.\n",
    "The second method gave a matrix of r values between the datasets and themselves, as well as between both datasets."
   ]
  }
 ],
 "metadata": {
  "kernelspec": {
   "display_name": "Python 3 (ipykernel)",
   "language": "python",
   "name": "python3"
  },
  "language_info": {
   "codemirror_mode": {
    "name": "ipython",
    "version": 3
   },
   "file_extension": ".py",
   "mimetype": "text/x-python",
   "name": "python",
   "nbconvert_exporter": "python",
   "pygments_lexer": "ipython3",
   "version": "3.12.3"
  }
 },
 "nbformat": 4,
 "nbformat_minor": 5
}
