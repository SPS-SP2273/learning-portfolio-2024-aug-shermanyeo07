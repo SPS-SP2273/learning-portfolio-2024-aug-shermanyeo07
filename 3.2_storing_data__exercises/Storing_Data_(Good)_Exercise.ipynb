{
 "cells": [
  {
   "cell_type": "markdown",
   "id": "fa090c8c-a916-44da-9717-bfbd6dba2175",
   "metadata": {},
   "source": [
    "# Exercise 1 (Total recall)"
   ]
  },
  {
   "cell_type": "markdown",
   "id": "68950dd6-b414-4e29-a298-dcb49f8f8ff5",
   "metadata": {},
   "source": [
    "Term | Brief Description\n",
    ":--- | :---\n",
    "Subsetting | The action of selecting from a set of data\n",
    "Indexing | Selecting one element from a set of data\n",
    "Slicing | Selecting multiple elements from a set of data\n",
    "Masking | Hiding certain elements from a set of data"
   ]
  },
  {
   "cell_type": "markdown",
   "id": "d79eb178-9201-4c96-8871-a793e8156f68",
   "metadata": {},
   "source": [
    "# Exercise 2 (Show me the 'odd' letters)"
   ]
  },
  {
   "cell_type": "code",
   "execution_count": 3,
   "id": "959b2bdb-1a99-4970-b985-3665ced0a9f4",
   "metadata": {},
   "outputs": [],
   "source": [
    "import numpy as np"
   ]
  },
  {
   "cell_type": "code",
   "execution_count": 4,
   "id": "51da6526-5178-45b7-8e14-60181eb81afc",
   "metadata": {},
   "outputs": [],
   "source": [
    "np_array_2d = np.array([[1, \"A\"], [3, \"C\"], [2, \"B\"], [4, \"D\"],\n",
    "                        [5, \"E\"], [7, \"G\"], [6, \"F\"], [8, \"H\"],\n",
    "                        [10, \"J\"], [9, \"I\"]])"
   ]
  },
  {
   "cell_type": "code",
   "execution_count": 12,
   "id": "1dbc8723-7a1e-45b8-9a04-533db8661d28",
   "metadata": {},
   "outputs": [
    {
     "data": {
      "text/plain": [
       "array(['1', '3', '2', '4', '5', '7', '6', '8', '10', '9'], dtype='<U21')"
      ]
     },
     "execution_count": 12,
     "metadata": {},
     "output_type": "execute_result"
    }
   ],
   "source": [
    "np_array_2d[:,0]"
   ]
  },
  {
   "cell_type": "code",
   "execution_count": 13,
   "id": "90bb8042-4dfd-4a67-8b60-0cd99533d926",
   "metadata": {},
   "outputs": [
    {
     "name": "stdout",
     "output_type": "stream",
     "text": [
      "[ 1  3  2  4  5  7  6  8 10  9]\n"
     ]
    }
   ],
   "source": [
    "a = np_array_2d[:,0]\n",
    "int_a = a.astype(int)\n",
    "print(int_a)"
   ]
  },
  {
   "cell_type": "code",
   "execution_count": 14,
   "id": "2ff187c7-3619-411c-840a-c409aeab329d",
   "metadata": {},
   "outputs": [
    {
     "name": "stdout",
     "output_type": "stream",
     "text": [
      "[1 1 0 0 1 1 0 0 0 1]\n"
     ]
    }
   ],
   "source": [
    "b = int_a%2\n",
    "print(b)"
   ]
  },
  {
   "cell_type": "code",
   "execution_count": 15,
   "id": "e7f3fe62-c783-4315-8526-5ed5c8d6176d",
   "metadata": {},
   "outputs": [
    {
     "data": {
      "text/plain": [
       "array([ True,  True, False, False,  True,  True, False, False, False,\n",
       "        True])"
      ]
     },
     "execution_count": 15,
     "metadata": {},
     "output_type": "execute_result"
    }
   ],
   "source": [
    "c = b > 0\n",
    "c"
   ]
  },
  {
   "cell_type": "code",
   "execution_count": 23,
   "id": "04c56650-fef8-4f21-a4a5-801d417caba0",
   "metadata": {},
   "outputs": [
    {
     "data": {
      "text/plain": [
       "array(['A', 'C', 'E', 'G', 'I'], dtype='<U21')"
      ]
     },
     "execution_count": 23,
     "metadata": {},
     "output_type": "execute_result"
    }
   ],
   "source": [
    "np_array_2d[c, 1]"
   ]
  },
  {
   "cell_type": "markdown",
   "id": "1650e52d-1820-49ed-b765-3e1d190d424f",
   "metadata": {},
   "source": [
    "# Exercise 3"
   ]
  },
  {
   "cell_type": "code",
   "execution_count": 25,
   "id": "f5afe5dc-b100-4655-812d-208497fac343",
   "metadata": {},
   "outputs": [],
   "source": [
    "np_array_2d = np.array([[66, 50, 57, -1, -1],\n",
    " [92, -1, 88, -1, -1],\n",
    " [75, -1, -1, 76, -1],\n",
    " [-1, 51, 87, -1, -1],\n",
    " [71, -1, 67, -1, 69]])"
   ]
  },
  {
   "cell_type": "code",
   "execution_count": 27,
   "id": "e301c784-1143-4879-bfab-b04694d98e87",
   "metadata": {},
   "outputs": [
    {
     "name": "stdout",
     "output_type": "stream",
     "text": [
      "[[ 1  0  1 -1 -1]\n",
      " [ 1 -1  1 -1 -1]\n",
      " [ 1 -1 -1  1 -1]\n",
      " [-1  1  1 -1 -1]\n",
      " [ 1 -1  1 -1  1]]\n"
     ]
    }
   ],
   "source": [
    "a = np_array_2d < 50\n",
    "np_array_2d[a] = -1\n",
    "b = np_array_2d > 50\n",
    "np_array_2d[b] = 1\n",
    "c = np_array_2d == 50\n",
    "np_array_2d[c] = 0\n",
    "\n",
    "print(np_array_2d)"
   ]
  }
 ],
 "metadata": {
  "kernelspec": {
   "display_name": "Python 3 (ipykernel)",
   "language": "python",
   "name": "python3"
  },
  "language_info": {
   "codemirror_mode": {
    "name": "ipython",
    "version": 3
   },
   "file_extension": ".py",
   "mimetype": "text/x-python",
   "name": "python",
   "nbconvert_exporter": "python",
   "pygments_lexer": "ipython3",
   "version": "3.12.3"
  }
 },
 "nbformat": 4,
 "nbformat_minor": 5
}
