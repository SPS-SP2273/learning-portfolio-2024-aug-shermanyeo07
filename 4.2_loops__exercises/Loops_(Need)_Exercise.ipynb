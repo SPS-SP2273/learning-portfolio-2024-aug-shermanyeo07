{
 "cells": [
  {
   "cell_type": "markdown",
   "id": "7afe2b4b-ae44-4809-aea8-54bf070efe62",
   "metadata": {},
   "source": [
    "# Exercise 1 (Celsius to Fahrenheit)"
   ]
  },
  {
   "cell_type": "code",
   "execution_count": 3,
   "id": "afe7d534-bca5-4b86-8e84-49776a4dc3ff",
   "metadata": {},
   "outputs": [],
   "source": [
    "import numpy as np"
   ]
  },
  {
   "cell_type": "code",
   "execution_count": 37,
   "id": "aee19978-b6e9-40d8-8732-5a44103dfd17",
   "metadata": {},
   "outputs": [
    {
     "name": "stdout",
     "output_type": "stream",
     "text": [
      "0°C,32.0°F\n",
      "5°C,41.0°F\n",
      "10°C,50.0°F\n",
      "15°C,59.0°F\n",
      "20°C,68.0°F\n",
      "25°C,77.0°F\n",
      "30°C,86.0°F\n",
      "35°C,95.0°F\n",
      "40°C,104.0°F\n",
      "45°C,113.0°F\n",
      "50°C,122.0°F\n"
     ]
    }
   ],
   "source": [
    "temperatures_celsius = [\n",
    "    0, 5, 10, 15, 20, 25,\n",
    "    30, 35, 40, 45, 50\n",
    "]\n",
    "celsius = np.array(temperatures_celsius)\n",
    "fahrenheit = celsius*1.8 + 32\n",
    "\n",
    "for index, temperatures in enumerate(celsius):\n",
    "    a = fahrenheit[index]\n",
    "    print(f'{temperatures}\\xb0C,{a}\\xb0F')"
   ]
  },
  {
   "cell_type": "markdown",
   "id": "d808a3b7-45ce-41d1-a19b-582d6e622838",
   "metadata": {},
   "source": [
    "# Exercise 2 (Multiplication table)"
   ]
  },
  {
   "cell_type": "code",
   "execution_count": 1,
   "id": "4557e607-1d51-4829-9ecb-55d554cecc8c",
   "metadata": {},
   "outputs": [
    {
     "name": "stdout",
     "output_type": "stream",
     "text": [
      "A1\tA2\tA3\t\n",
      "\n",
      "B1\tB2\tB3\t\n",
      "\n",
      "C1\tC2\tC3\t\n",
      "\n"
     ]
    }
   ],
   "source": [
    "for letter in ['A', 'B', 'C']:\n",
    "    for number in [1, 2, 3]:\n",
    "        print(f'{letter}{number}', end='\\t')\n",
    "    print('\\n')"
   ]
  },
  {
   "cell_type": "code",
   "execution_count": 8,
   "id": "c7866c9e-dda3-45da-8779-fadc8dcbef1e",
   "metadata": {},
   "outputs": [
    {
     "name": "stdout",
     "output_type": "stream",
     "text": [
      "1 : 1   2   3   4   5   \n",
      "2 : 2   4   6   8   10  \n",
      "3 : 3   6   9   12  15  \n",
      "4 : 4   8   12  16  20  \n",
      "5 : 5   10  15  20  25  \n"
     ]
    }
   ],
   "source": [
    "import numpy as np\n",
    "\n",
    "numbers = np.array([1,2,3,4,5])\n",
    "\n",
    "for count in range(1,6):\n",
    "    c = f'{count} : '\n",
    "    for x in numbers:\n",
    "        c += f'{count*x:<4}'\n",
    "    print(c)"
   ]
  },
  {
   "cell_type": "markdown",
   "id": "38e85b8c-b93c-45e5-ba42-3160167c6c31",
   "metadata": {},
   "source": [
    "# Exercise 3 (Simulating a Coin Flip Experiment)"
   ]
  },
  {
   "cell_type": "code",
   "execution_count": 14,
   "id": "201f240c-365f-4eb1-8ba9-8700bde915eb",
   "metadata": {},
   "outputs": [
    {
     "name": "stdout",
     "output_type": "stream",
     "text": [
      "Experiment  1: No. of heads = 2\n",
      "Experiment  2: No. of heads = 5\n",
      "Experiment  3: No. of heads = 6\n",
      "Experiment  4: No. of heads = 5\n",
      "Experiment  5: No. of heads = 7\n",
      "Experiment  6: No. of heads = 3\n",
      "Experiment  7: No. of heads = 3\n",
      "Experiment  8: No. of heads = 5\n",
      "Experiment  9: No. of heads = 5\n",
      "Experiment 10: No. of heads = 5\n"
     ]
    }
   ],
   "source": [
    "import numpy as np\n",
    "\n",
    "for count in range (1,11):\n",
    "    flips = np.random.rand(10)\n",
    "    print(f'Experiment {count:>2}: No. of heads =', sum(flips > 0.5))"
   ]
  }
 ],
 "metadata": {
  "kernelspec": {
   "display_name": "Python 3 (ipykernel)",
   "language": "python",
   "name": "python3"
  },
  "language_info": {
   "codemirror_mode": {
    "name": "ipython",
    "version": 3
   },
   "file_extension": ".py",
   "mimetype": "text/x-python",
   "name": "python",
   "nbconvert_exporter": "python",
   "pygments_lexer": "ipython3",
   "version": "3.12.3"
  }
 },
 "nbformat": 4,
 "nbformat_minor": 5
}
