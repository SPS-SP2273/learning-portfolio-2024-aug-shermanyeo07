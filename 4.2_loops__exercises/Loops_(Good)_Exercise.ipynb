{
 "cells": [
  {
   "cell_type": "markdown",
   "id": "34bb1df3-a07a-440d-ba6a-91b483617f52",
   "metadata": {},
   "source": [
    "# Exercise 1 (Make me an odd list)"
   ]
  },
  {
   "cell_type": "code",
   "execution_count": 1,
   "id": "8654ca2d-ccd4-43d5-a998-f9faf68e1be8",
   "metadata": {},
   "outputs": [
    {
     "name": "stdout",
     "output_type": "stream",
     "text": [
      "1\n",
      "9\n",
      "25\n",
      "49\n",
      "81\n"
     ]
    }
   ],
   "source": [
    "for number in range(10):\n",
    "    if number % 2 == 0:\n",
    "        continue\n",
    "    print(number**2)"
   ]
  },
  {
   "cell_type": "markdown",
   "id": "7cc979c1-51b7-47d4-addf-b2e19347454d",
   "metadata": {},
   "source": [
    "# Exercise 2 (Make me another odd list)"
   ]
  },
  {
   "cell_type": "code",
   "execution_count": 5,
   "id": "06836397-6196-491f-9a63-e128aab55e4b",
   "metadata": {},
   "outputs": [
    {
     "data": {
      "text/plain": [
       "[1, 9, 25, 49, 81]"
      ]
     },
     "execution_count": 5,
     "metadata": {},
     "output_type": "execute_result"
    }
   ],
   "source": [
    "[number**2 for number in range(10) if number % 2 > 0]"
   ]
  },
  {
   "cell_type": "markdown",
   "id": "bf58c52f-d28a-4905-9fa2-d46490b66398",
   "metadata": {},
   "source": [
    "# Exercise 3 (Time me!)"
   ]
  },
  {
   "cell_type": "code",
   "execution_count": 3,
   "id": "31465d15-2a36-4910-a6f4-9fe98ac6b8c4",
   "metadata": {},
   "outputs": [
    {
     "name": "stdout",
     "output_type": "stream",
     "text": [
      "1.32 μs ± 147 ns per loop (mean ± std. dev. of 7 runs, 1,000,000 loops each)\n"
     ]
    }
   ],
   "source": [
    "%%timeit\n",
    "for number in range(10):\n",
    "    if number % 2 == 0:\n",
    "        continue\n",
    "    number**2"
   ]
  },
  {
   "cell_type": "code",
   "execution_count": 1,
   "id": "006bad77-d83d-4b8c-9e6f-2303ef1794f7",
   "metadata": {},
   "outputs": [
    {
     "name": "stdout",
     "output_type": "stream",
     "text": [
      "1.64 μs ± 107 ns per loop (mean ± std. dev. of 7 runs, 1,000,000 loops each)\n"
     ]
    }
   ],
   "source": [
    "%%timeit\n",
    "[number**2 for number in range(10) if number % 2 > 0] #when I did it the first time, this was the faster solution(?)"
   ]
  },
  {
   "cell_type": "markdown",
   "id": "684e2b34-ecd7-4ca2-a16d-d73c00d28c52",
   "metadata": {},
   "source": [
    "The solution involving for and continue is faster."
   ]
  },
  {
   "cell_type": "markdown",
   "id": "7ad15357-5f73-4fac-a65c-dd06d63a2447",
   "metadata": {},
   "source": [
    "# Exercise 4 (A problem of decay)"
   ]
  },
  {
   "cell_type": "code",
   "execution_count": 25,
   "id": "b2ce3c8d-c597-47fe-b410-a326c3e4b638",
   "metadata": {},
   "outputs": [
    {
     "name": "stdout",
     "output_type": "stream",
     "text": [
      "14 years\n"
     ]
    }
   ],
   "source": [
    "quantity = 100\n",
    "years = []\n",
    "\n",
    "while quantity >= 50:\n",
    "    quantity = 0.95*quantity\n",
    "    years.append(quantity)\n",
    "\n",
    "print(len(years), 'years')"
   ]
  },
  {
   "cell_type": "markdown",
   "id": "5b7eb123-8ac3-44d2-93f4-8fca24879890",
   "metadata": {},
   "source": [
    "# Exercise 5 (Changes in CO$_2$)"
   ]
  },
  {
   "cell_type": "code",
   "execution_count": 22,
   "id": "2104683c-09c5-414e-8a7c-3c5a46504ad2",
   "metadata": {},
   "outputs": [
    {
     "name": "stdout",
     "output_type": "stream",
     "text": [
      "2015, where increase in concentration is 3.410000000000025ppm\n"
     ]
    }
   ],
   "source": [
    "import numpy as np\n",
    "\n",
    "co2_data = [\n",
    "    (2000, 369.55), (2001, 371.14), (2002, 373.28), \n",
    "    (2003, 375.80), (2004, 377.52), (2005, 379.80), \n",
    "    (2006, 381.90), (2007, 383.79), (2008, 385.60), \n",
    "    (2009, 387.43), (2010, 389.90), (2011, 391.65), \n",
    "    (2012, 393.85), (2013, 396.52), (2014, 398.65),\n",
    "    (2015, 400.83), (2016, 404.24), (2017, 406.55), \n",
    "    (2018, 408.52), (2019, 411.44), (2020, 414.24)\n",
    "]\n",
    "co2 = np.array(co2_data)\n",
    "year = co2[:, 0]\n",
    "year = year.astype(int)\n",
    "ppm = co2[:, 1]\n",
    "\n",
    "for i in range(20):\n",
    "    increase = ppm[i+1]-ppm[i]\n",
    "    if increase > 3:\n",
    "        print(f'{year[i]}, where increase in concentration is {increase}ppm')"
   ]
  }
 ],
 "metadata": {
  "kernelspec": {
   "display_name": "Python 3 (ipykernel)",
   "language": "python",
   "name": "python3"
  },
  "language_info": {
   "codemirror_mode": {
    "name": "ipython",
    "version": 3
   },
   "file_extension": ".py",
   "mimetype": "text/x-python",
   "name": "python",
   "nbconvert_exporter": "python",
   "pygments_lexer": "ipython3",
   "version": "3.12.3"
  }
 },
 "nbformat": 4,
 "nbformat_minor": 5
}
