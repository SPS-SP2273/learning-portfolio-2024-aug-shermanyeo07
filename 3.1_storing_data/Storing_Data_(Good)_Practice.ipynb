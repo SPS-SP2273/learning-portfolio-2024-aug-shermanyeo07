{
 "cells": [
  {
   "cell_type": "code",
   "execution_count": null,
   "id": "9c25c64c-1b4e-46bd-b317-2e2e3ea8b708",
   "metadata": {},
   "outputs": [],
   "source": []
  }
 ],
 "metadata": {
  "kernelspec": {
   "display_name": "",
   "name": ""
  },
  "language_info": {
   "name": ""
  }
 },
 "nbformat": 4,
 "nbformat_minor": 5
}
